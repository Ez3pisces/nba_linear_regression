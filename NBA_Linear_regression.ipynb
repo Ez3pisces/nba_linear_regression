{
 "cells": [
  {
   "cell_type": "code",
   "execution_count": 2,
   "id": "0e40c8b0",
   "metadata": {},
   "outputs": [],
   "source": [
    "import pandas as pd\n",
    "import numpy as np\n",
    "from sklearn import linear_model\n",
    "import requests\n",
    "from nba_api.stats import endpoints\n",
    "from matplotlib import pyplot as plt"
   ]
  },
  {
   "cell_type": "code",
   "execution_count": null,
   "id": "24ee2142",
   "metadata": {},
   "outputs": [],
   "source": [
    "#Ok first let's play around with some of the data we can access\n",
    "#How do we access it?\n"
   ]
  },
  {
   "cell_type": "code",
   "execution_count": 11,
   "id": "19d30632",
   "metadata": {},
   "outputs": [],
   "source": [
    "#so we use endpoints. endpoints are basically api access points to gather data we want. there are various endpoints for just about any stat you can think of. Say we want to see the league leadres in points \n",
    "#we specify that we want an endpoint. After that we specify which endpoint we want which is league leaders.\n",
    "data = endpoints.leagueleaders.LeagueLeaders() \n",
    "league_leaders_df = data.league_leaders.get_data_frame()   \n",
    "#we can convert this data into a data frame"
   ]
  },
  {
   "cell_type": "code",
   "execution_count": 12,
   "id": "b3053aaf",
   "metadata": {},
   "outputs": [],
   "source": [
    "data = endpoints.assistleaders.AssistLeaders()\n",
    "assist_leaders_df = data.assist_leaders.get_data_frame()"
   ]
  },
  {
   "cell_type": "code",
   "execution_count": 13,
   "id": "ec2e3022",
   "metadata": {},
   "outputs": [
    {
     "data": {
      "text/html": [
       "<div>\n",
       "<style scoped>\n",
       "    .dataframe tbody tr th:only-of-type {\n",
       "        vertical-align: middle;\n",
       "    }\n",
       "\n",
       "    .dataframe tbody tr th {\n",
       "        vertical-align: top;\n",
       "    }\n",
       "\n",
       "    .dataframe thead th {\n",
       "        text-align: right;\n",
       "    }\n",
       "</style>\n",
       "<table border=\"1\" class=\"dataframe\">\n",
       "  <thead>\n",
       "    <tr style=\"text-align: right;\">\n",
       "      <th></th>\n",
       "      <th>RANK</th>\n",
       "      <th>TEAM_ID</th>\n",
       "      <th>TEAM_ABBREVIATION</th>\n",
       "      <th>TEAM_NAME</th>\n",
       "      <th>AST</th>\n",
       "    </tr>\n",
       "  </thead>\n",
       "  <tbody>\n",
       "    <tr>\n",
       "      <th>0</th>\n",
       "      <td>1</td>\n",
       "      <td>1610612766</td>\n",
       "      <td>CHA</td>\n",
       "      <td>Charlotte Hornets</td>\n",
       "      <td>2268</td>\n",
       "    </tr>\n",
       "    <tr>\n",
       "      <th>1</th>\n",
       "      <td>2</td>\n",
       "      <td>1610612743</td>\n",
       "      <td>DEN</td>\n",
       "      <td>Denver Nuggets</td>\n",
       "      <td>2246</td>\n",
       "    </tr>\n",
       "    <tr>\n",
       "      <th>2</th>\n",
       "      <td>3</td>\n",
       "      <td>1610612759</td>\n",
       "      <td>SAS</td>\n",
       "      <td>San Antonio Spurs</td>\n",
       "      <td>2244</td>\n",
       "    </tr>\n",
       "    <tr>\n",
       "      <th>3</th>\n",
       "      <td>4</td>\n",
       "      <td>1610612756</td>\n",
       "      <td>PHX</td>\n",
       "      <td>Phoenix Suns</td>\n",
       "      <td>2217</td>\n",
       "    </tr>\n",
       "    <tr>\n",
       "      <th>4</th>\n",
       "      <td>5</td>\n",
       "      <td>1610612744</td>\n",
       "      <td>GSW</td>\n",
       "      <td>Golden State Warriors</td>\n",
       "      <td>2167</td>\n",
       "    </tr>\n",
       "  </tbody>\n",
       "</table>\n",
       "</div>"
      ],
      "text/plain": [
       "   RANK     TEAM_ID TEAM_ABBREVIATION              TEAM_NAME   AST\n",
       "0     1  1610612766               CHA      Charlotte Hornets  2268\n",
       "1     2  1610612743               DEN         Denver Nuggets  2246\n",
       "2     3  1610612759               SAS      San Antonio Spurs  2244\n",
       "3     4  1610612756               PHX           Phoenix Suns  2217\n",
       "4     5  1610612744               GSW  Golden State Warriors  2167"
      ]
     },
     "execution_count": 13,
     "metadata": {},
     "output_type": "execute_result"
    }
   ],
   "source": [
    "assist_leaders_df"
   ]
  },
  {
   "cell_type": "markdown",
   "id": "b60b4ab7",
   "metadata": {},
   "source": [
    "Let's just play around and see what stats you guys are interested in!"
   ]
  },
  {
   "cell_type": "code",
   "execution_count": null,
   "id": "1ef7d563",
   "metadata": {},
   "outputs": [],
   "source": [
    "#"
   ]
  },
  {
   "cell_type": "code",
   "execution_count": 56,
   "id": "fe2a630f",
   "metadata": {},
   "outputs": [
    {
     "data": {
      "text/html": [
       "<div>\n",
       "<style scoped>\n",
       "    .dataframe tbody tr th:only-of-type {\n",
       "        vertical-align: middle;\n",
       "    }\n",
       "\n",
       "    .dataframe tbody tr th {\n",
       "        vertical-align: top;\n",
       "    }\n",
       "\n",
       "    .dataframe thead th {\n",
       "        text-align: right;\n",
       "    }\n",
       "</style>\n",
       "<table border=\"1\" class=\"dataframe\">\n",
       "  <thead>\n",
       "    <tr style=\"text-align: right;\">\n",
       "      <th></th>\n",
       "      <th>PLAYER_ID</th>\n",
       "      <th>RANK</th>\n",
       "      <th>PLAYER</th>\n",
       "      <th>TEAM</th>\n",
       "      <th>GP</th>\n",
       "      <th>MIN</th>\n",
       "      <th>FGM</th>\n",
       "      <th>FGA</th>\n",
       "      <th>FG_PCT</th>\n",
       "      <th>FG3M</th>\n",
       "      <th>...</th>\n",
       "      <th>REB</th>\n",
       "      <th>AST</th>\n",
       "      <th>STL</th>\n",
       "      <th>BLK</th>\n",
       "      <th>TOV</th>\n",
       "      <th>PF</th>\n",
       "      <th>PTS</th>\n",
       "      <th>EFF</th>\n",
       "      <th>AST_TOV</th>\n",
       "      <th>STL_TOV</th>\n",
       "    </tr>\n",
       "  </thead>\n",
       "  <tbody>\n",
       "    <tr>\n",
       "      <th>0</th>\n",
       "      <td>1629027</td>\n",
       "      <td>1</td>\n",
       "      <td>Trae Young</td>\n",
       "      <td>ATL</td>\n",
       "      <td>75</td>\n",
       "      <td>2618</td>\n",
       "      <td>701</td>\n",
       "      <td>1524</td>\n",
       "      <td>0.460</td>\n",
       "      <td>229</td>\n",
       "      <td>...</td>\n",
       "      <td>279</td>\n",
       "      <td>726</td>\n",
       "      <td>72</td>\n",
       "      <td>7</td>\n",
       "      <td>298</td>\n",
       "      <td>124</td>\n",
       "      <td>2127</td>\n",
       "      <td>2037</td>\n",
       "      <td>2.44</td>\n",
       "      <td>0.24</td>\n",
       "    </tr>\n",
       "    <tr>\n",
       "      <th>1</th>\n",
       "      <td>201942</td>\n",
       "      <td>2</td>\n",
       "      <td>DeMar DeRozan</td>\n",
       "      <td>CHI</td>\n",
       "      <td>76</td>\n",
       "      <td>2743</td>\n",
       "      <td>774</td>\n",
       "      <td>1535</td>\n",
       "      <td>0.504</td>\n",
       "      <td>50</td>\n",
       "      <td>...</td>\n",
       "      <td>392</td>\n",
       "      <td>374</td>\n",
       "      <td>68</td>\n",
       "      <td>24</td>\n",
       "      <td>181</td>\n",
       "      <td>178</td>\n",
       "      <td>2118</td>\n",
       "      <td>1961</td>\n",
       "      <td>2.07</td>\n",
       "      <td>0.38</td>\n",
       "    </tr>\n",
       "    <tr>\n",
       "      <th>2</th>\n",
       "      <td>203954</td>\n",
       "      <td>3</td>\n",
       "      <td>Joel Embiid</td>\n",
       "      <td>PHI</td>\n",
       "      <td>67</td>\n",
       "      <td>2259</td>\n",
       "      <td>652</td>\n",
       "      <td>1317</td>\n",
       "      <td>0.495</td>\n",
       "      <td>91</td>\n",
       "      <td>...</td>\n",
       "      <td>776</td>\n",
       "      <td>280</td>\n",
       "      <td>75</td>\n",
       "      <td>98</td>\n",
       "      <td>209</td>\n",
       "      <td>177</td>\n",
       "      <td>2038</td>\n",
       "      <td>2248</td>\n",
       "      <td>1.34</td>\n",
       "      <td>0.36</td>\n",
       "    </tr>\n",
       "    <tr>\n",
       "      <th>3</th>\n",
       "      <td>1628369</td>\n",
       "      <td>4</td>\n",
       "      <td>Jayson Tatum</td>\n",
       "      <td>BOS</td>\n",
       "      <td>75</td>\n",
       "      <td>2705</td>\n",
       "      <td>697</td>\n",
       "      <td>1550</td>\n",
       "      <td>0.450</td>\n",
       "      <td>224</td>\n",
       "      <td>...</td>\n",
       "      <td>600</td>\n",
       "      <td>331</td>\n",
       "      <td>74</td>\n",
       "      <td>49</td>\n",
       "      <td>212</td>\n",
       "      <td>172</td>\n",
       "      <td>2015</td>\n",
       "      <td>1935</td>\n",
       "      <td>1.56</td>\n",
       "      <td>0.35</td>\n",
       "    </tr>\n",
       "    <tr>\n",
       "      <th>4</th>\n",
       "      <td>203999</td>\n",
       "      <td>5</td>\n",
       "      <td>Nikola Jokic</td>\n",
       "      <td>DEN</td>\n",
       "      <td>74</td>\n",
       "      <td>2476</td>\n",
       "      <td>764</td>\n",
       "      <td>1311</td>\n",
       "      <td>0.583</td>\n",
       "      <td>97</td>\n",
       "      <td>...</td>\n",
       "      <td>1019</td>\n",
       "      <td>584</td>\n",
       "      <td>109</td>\n",
       "      <td>63</td>\n",
       "      <td>281</td>\n",
       "      <td>191</td>\n",
       "      <td>2004</td>\n",
       "      <td>2862</td>\n",
       "      <td>2.08</td>\n",
       "      <td>0.39</td>\n",
       "    </tr>\n",
       "    <tr>\n",
       "      <th>...</th>\n",
       "      <td>...</td>\n",
       "      <td>...</td>\n",
       "      <td>...</td>\n",
       "      <td>...</td>\n",
       "      <td>...</td>\n",
       "      <td>...</td>\n",
       "      <td>...</td>\n",
       "      <td>...</td>\n",
       "      <td>...</td>\n",
       "      <td>...</td>\n",
       "      <td>...</td>\n",
       "      <td>...</td>\n",
       "      <td>...</td>\n",
       "      <td>...</td>\n",
       "      <td>...</td>\n",
       "      <td>...</td>\n",
       "      <td>...</td>\n",
       "      <td>...</td>\n",
       "      <td>...</td>\n",
       "      <td>...</td>\n",
       "      <td>...</td>\n",
       "    </tr>\n",
       "    <tr>\n",
       "      <th>598</th>\n",
       "      <td>1630207</td>\n",
       "      <td>580</td>\n",
       "      <td>Nate Hinton</td>\n",
       "      <td>IND</td>\n",
       "      <td>2</td>\n",
       "      <td>2</td>\n",
       "      <td>0</td>\n",
       "      <td>1</td>\n",
       "      <td>0.000</td>\n",
       "      <td>0</td>\n",
       "      <td>...</td>\n",
       "      <td>0</td>\n",
       "      <td>0</td>\n",
       "      <td>0</td>\n",
       "      <td>0</td>\n",
       "      <td>1</td>\n",
       "      <td>0</td>\n",
       "      <td>0</td>\n",
       "      <td>-2</td>\n",
       "      <td>0.00</td>\n",
       "      <td>0.00</td>\n",
       "    </tr>\n",
       "    <tr>\n",
       "      <th>599</th>\n",
       "      <td>1626155</td>\n",
       "      <td>580</td>\n",
       "      <td>Sam Dekker</td>\n",
       "      <td>TOR</td>\n",
       "      <td>1</td>\n",
       "      <td>1</td>\n",
       "      <td>0</td>\n",
       "      <td>0</td>\n",
       "      <td>0.000</td>\n",
       "      <td>0</td>\n",
       "      <td>...</td>\n",
       "      <td>0</td>\n",
       "      <td>0</td>\n",
       "      <td>0</td>\n",
       "      <td>0</td>\n",
       "      <td>0</td>\n",
       "      <td>0</td>\n",
       "      <td>0</td>\n",
       "      <td>0</td>\n",
       "      <td>0.00</td>\n",
       "      <td>0.00</td>\n",
       "    </tr>\n",
       "    <tr>\n",
       "      <th>600</th>\n",
       "      <td>1629309</td>\n",
       "      <td>580</td>\n",
       "      <td>Trayvon Palmer</td>\n",
       "      <td>DET</td>\n",
       "      <td>1</td>\n",
       "      <td>17</td>\n",
       "      <td>0</td>\n",
       "      <td>1</td>\n",
       "      <td>0.000</td>\n",
       "      <td>0</td>\n",
       "      <td>...</td>\n",
       "      <td>2</td>\n",
       "      <td>0</td>\n",
       "      <td>0</td>\n",
       "      <td>0</td>\n",
       "      <td>1</td>\n",
       "      <td>2</td>\n",
       "      <td>0</td>\n",
       "      <td>0</td>\n",
       "      <td>0.00</td>\n",
       "      <td>0.00</td>\n",
       "    </tr>\n",
       "    <tr>\n",
       "      <th>601</th>\n",
       "      <td>1629788</td>\n",
       "      <td>580</td>\n",
       "      <td>Tyler Hall</td>\n",
       "      <td>NYK</td>\n",
       "      <td>1</td>\n",
       "      <td>2</td>\n",
       "      <td>0</td>\n",
       "      <td>0</td>\n",
       "      <td>0.000</td>\n",
       "      <td>0</td>\n",
       "      <td>...</td>\n",
       "      <td>0</td>\n",
       "      <td>0</td>\n",
       "      <td>0</td>\n",
       "      <td>0</td>\n",
       "      <td>0</td>\n",
       "      <td>0</td>\n",
       "      <td>0</td>\n",
       "      <td>0</td>\n",
       "      <td>0.00</td>\n",
       "      <td>0.00</td>\n",
       "    </tr>\n",
       "    <tr>\n",
       "      <th>602</th>\n",
       "      <td>1629597</td>\n",
       "      <td>580</td>\n",
       "      <td>Zylan Cheatham</td>\n",
       "      <td>UTA</td>\n",
       "      <td>1</td>\n",
       "      <td>5</td>\n",
       "      <td>0</td>\n",
       "      <td>3</td>\n",
       "      <td>0.000</td>\n",
       "      <td>0</td>\n",
       "      <td>...</td>\n",
       "      <td>0</td>\n",
       "      <td>0</td>\n",
       "      <td>0</td>\n",
       "      <td>0</td>\n",
       "      <td>0</td>\n",
       "      <td>0</td>\n",
       "      <td>0</td>\n",
       "      <td>-3</td>\n",
       "      <td>0.00</td>\n",
       "      <td>0.00</td>\n",
       "    </tr>\n",
       "  </tbody>\n",
       "</table>\n",
       "<p>603 rows × 27 columns</p>\n",
       "</div>"
      ],
      "text/plain": [
       "     PLAYER_ID  RANK          PLAYER TEAM  GP   MIN  FGM   FGA  FG_PCT  FG3M  \\\n",
       "0      1629027     1      Trae Young  ATL  75  2618  701  1524   0.460   229   \n",
       "1       201942     2   DeMar DeRozan  CHI  76  2743  774  1535   0.504    50   \n",
       "2       203954     3     Joel Embiid  PHI  67  2259  652  1317   0.495    91   \n",
       "3      1628369     4    Jayson Tatum  BOS  75  2705  697  1550   0.450   224   \n",
       "4       203999     5    Nikola Jokic  DEN  74  2476  764  1311   0.583    97   \n",
       "..         ...   ...             ...  ...  ..   ...  ...   ...     ...   ...   \n",
       "598    1630207   580     Nate Hinton  IND   2     2    0     1   0.000     0   \n",
       "599    1626155   580      Sam Dekker  TOR   1     1    0     0   0.000     0   \n",
       "600    1629309   580  Trayvon Palmer  DET   1    17    0     1   0.000     0   \n",
       "601    1629788   580      Tyler Hall  NYK   1     2    0     0   0.000     0   \n",
       "602    1629597   580  Zylan Cheatham  UTA   1     5    0     3   0.000     0   \n",
       "\n",
       "     ...   REB  AST  STL  BLK  TOV   PF   PTS   EFF  AST_TOV  STL_TOV  \n",
       "0    ...   279  726   72    7  298  124  2127  2037     2.44     0.24  \n",
       "1    ...   392  374   68   24  181  178  2118  1961     2.07     0.38  \n",
       "2    ...   776  280   75   98  209  177  2038  2248     1.34     0.36  \n",
       "3    ...   600  331   74   49  212  172  2015  1935     1.56     0.35  \n",
       "4    ...  1019  584  109   63  281  191  2004  2862     2.08     0.39  \n",
       "..   ...   ...  ...  ...  ...  ...  ...   ...   ...      ...      ...  \n",
       "598  ...     0    0    0    0    1    0     0    -2     0.00     0.00  \n",
       "599  ...     0    0    0    0    0    0     0     0     0.00     0.00  \n",
       "600  ...     2    0    0    0    1    2     0     0     0.00     0.00  \n",
       "601  ...     0    0    0    0    0    0     0     0     0.00     0.00  \n",
       "602  ...     0    0    0    0    0    0     0    -3     0.00     0.00  \n",
       "\n",
       "[603 rows x 27 columns]"
      ]
     },
     "execution_count": 56,
     "metadata": {},
     "output_type": "execute_result"
    }
   ],
   "source": [
    "league_leaders_df"
   ]
  },
  {
   "cell_type": "code",
   "execution_count": 16,
   "id": "f697ec0a",
   "metadata": {},
   "outputs": [],
   "source": [
    "#Suppose we want to find out the relationship between shot attempts and points scored.\n",
    "#We can do this by creating a simple linear regression model\n",
    "#the data presented to us though gives us total points scored and we want point per game averages \n",
    "#let's compute the points per game average \n",
    "x, y = league_leaders_df.FGA/league_leaders_df.GP, league_leaders_df.PTS/league_leaders_df.GP "
   ]
  },
  {
   "cell_type": "code",
   "execution_count": 18,
   "id": "17b6a0f9",
   "metadata": {},
   "outputs": [
    {
     "data": {
      "text/plain": [
       "pandas.core.series.Series"
      ]
     },
     "execution_count": 18,
     "metadata": {},
     "output_type": "execute_result"
    }
   ],
   "source": [
    "type(x)"
   ]
  },
  {
   "cell_type": "code",
   "execution_count": 19,
   "id": "99ee18cb",
   "metadata": {},
   "outputs": [
    {
     "data": {
      "text/plain": [
       "0      20.320000\n",
       "1      20.197368\n",
       "2      19.656716\n",
       "3      20.666667\n",
       "4      17.716216\n",
       "         ...    \n",
       "598     0.500000\n",
       "599     0.000000\n",
       "600     1.000000\n",
       "601     0.000000\n",
       "602     3.000000\n",
       "Length: 603, dtype: float64"
      ]
     },
     "execution_count": 19,
     "metadata": {},
     "output_type": "execute_result"
    }
   ],
   "source": [
    "x"
   ]
  },
  {
   "cell_type": "code",
   "execution_count": 55,
   "id": "2e2dfc4b",
   "metadata": {},
   "outputs": [
    {
     "name": "stdout",
     "output_type": "stream",
     "text": [
      "[21.80357143]\n"
     ]
    }
   ],
   "source": [
    "\n",
    "        \n",
    "        \n"
   ]
  },
  {
   "cell_type": "code",
   "execution_count": null,
   "id": "04fd5045",
   "metadata": {},
   "outputs": [],
   "source": [
    "#what happened is that our data frame divided all each player's points by the games he played\n",
    "#we can verify this by looking at our original data frame\n"
   ]
  },
  {
   "cell_type": "code",
   "execution_count": 20,
   "id": "9462cebe",
   "metadata": {},
   "outputs": [
    {
     "data": {
      "text/html": [
       "<div>\n",
       "<style scoped>\n",
       "    .dataframe tbody tr th:only-of-type {\n",
       "        vertical-align: middle;\n",
       "    }\n",
       "\n",
       "    .dataframe tbody tr th {\n",
       "        vertical-align: top;\n",
       "    }\n",
       "\n",
       "    .dataframe thead th {\n",
       "        text-align: right;\n",
       "    }\n",
       "</style>\n",
       "<table border=\"1\" class=\"dataframe\">\n",
       "  <thead>\n",
       "    <tr style=\"text-align: right;\">\n",
       "      <th></th>\n",
       "      <th>PLAYER_ID</th>\n",
       "      <th>RANK</th>\n",
       "      <th>PLAYER</th>\n",
       "      <th>TEAM</th>\n",
       "      <th>GP</th>\n",
       "      <th>MIN</th>\n",
       "      <th>FGM</th>\n",
       "      <th>FGA</th>\n",
       "      <th>FG_PCT</th>\n",
       "      <th>FG3M</th>\n",
       "      <th>...</th>\n",
       "      <th>REB</th>\n",
       "      <th>AST</th>\n",
       "      <th>STL</th>\n",
       "      <th>BLK</th>\n",
       "      <th>TOV</th>\n",
       "      <th>PF</th>\n",
       "      <th>PTS</th>\n",
       "      <th>EFF</th>\n",
       "      <th>AST_TOV</th>\n",
       "      <th>STL_TOV</th>\n",
       "    </tr>\n",
       "  </thead>\n",
       "  <tbody>\n",
       "    <tr>\n",
       "      <th>0</th>\n",
       "      <td>1629027</td>\n",
       "      <td>1</td>\n",
       "      <td>Trae Young</td>\n",
       "      <td>ATL</td>\n",
       "      <td>75</td>\n",
       "      <td>2618</td>\n",
       "      <td>701</td>\n",
       "      <td>1524</td>\n",
       "      <td>0.460</td>\n",
       "      <td>229</td>\n",
       "      <td>...</td>\n",
       "      <td>279</td>\n",
       "      <td>726</td>\n",
       "      <td>72</td>\n",
       "      <td>7</td>\n",
       "      <td>298</td>\n",
       "      <td>124</td>\n",
       "      <td>2127</td>\n",
       "      <td>2037</td>\n",
       "      <td>2.44</td>\n",
       "      <td>0.24</td>\n",
       "    </tr>\n",
       "    <tr>\n",
       "      <th>1</th>\n",
       "      <td>201942</td>\n",
       "      <td>2</td>\n",
       "      <td>DeMar DeRozan</td>\n",
       "      <td>CHI</td>\n",
       "      <td>76</td>\n",
       "      <td>2743</td>\n",
       "      <td>774</td>\n",
       "      <td>1535</td>\n",
       "      <td>0.504</td>\n",
       "      <td>50</td>\n",
       "      <td>...</td>\n",
       "      <td>392</td>\n",
       "      <td>374</td>\n",
       "      <td>68</td>\n",
       "      <td>24</td>\n",
       "      <td>181</td>\n",
       "      <td>178</td>\n",
       "      <td>2118</td>\n",
       "      <td>1961</td>\n",
       "      <td>2.07</td>\n",
       "      <td>0.38</td>\n",
       "    </tr>\n",
       "    <tr>\n",
       "      <th>2</th>\n",
       "      <td>203954</td>\n",
       "      <td>3</td>\n",
       "      <td>Joel Embiid</td>\n",
       "      <td>PHI</td>\n",
       "      <td>67</td>\n",
       "      <td>2259</td>\n",
       "      <td>652</td>\n",
       "      <td>1317</td>\n",
       "      <td>0.495</td>\n",
       "      <td>91</td>\n",
       "      <td>...</td>\n",
       "      <td>776</td>\n",
       "      <td>280</td>\n",
       "      <td>75</td>\n",
       "      <td>98</td>\n",
       "      <td>209</td>\n",
       "      <td>177</td>\n",
       "      <td>2038</td>\n",
       "      <td>2248</td>\n",
       "      <td>1.34</td>\n",
       "      <td>0.36</td>\n",
       "    </tr>\n",
       "    <tr>\n",
       "      <th>3</th>\n",
       "      <td>1628369</td>\n",
       "      <td>4</td>\n",
       "      <td>Jayson Tatum</td>\n",
       "      <td>BOS</td>\n",
       "      <td>75</td>\n",
       "      <td>2705</td>\n",
       "      <td>697</td>\n",
       "      <td>1550</td>\n",
       "      <td>0.450</td>\n",
       "      <td>224</td>\n",
       "      <td>...</td>\n",
       "      <td>600</td>\n",
       "      <td>331</td>\n",
       "      <td>74</td>\n",
       "      <td>49</td>\n",
       "      <td>212</td>\n",
       "      <td>172</td>\n",
       "      <td>2015</td>\n",
       "      <td>1935</td>\n",
       "      <td>1.56</td>\n",
       "      <td>0.35</td>\n",
       "    </tr>\n",
       "    <tr>\n",
       "      <th>4</th>\n",
       "      <td>203999</td>\n",
       "      <td>5</td>\n",
       "      <td>Nikola Jokic</td>\n",
       "      <td>DEN</td>\n",
       "      <td>74</td>\n",
       "      <td>2476</td>\n",
       "      <td>764</td>\n",
       "      <td>1311</td>\n",
       "      <td>0.583</td>\n",
       "      <td>97</td>\n",
       "      <td>...</td>\n",
       "      <td>1019</td>\n",
       "      <td>584</td>\n",
       "      <td>109</td>\n",
       "      <td>63</td>\n",
       "      <td>281</td>\n",
       "      <td>191</td>\n",
       "      <td>2004</td>\n",
       "      <td>2862</td>\n",
       "      <td>2.08</td>\n",
       "      <td>0.39</td>\n",
       "    </tr>\n",
       "    <tr>\n",
       "      <th>...</th>\n",
       "      <td>...</td>\n",
       "      <td>...</td>\n",
       "      <td>...</td>\n",
       "      <td>...</td>\n",
       "      <td>...</td>\n",
       "      <td>...</td>\n",
       "      <td>...</td>\n",
       "      <td>...</td>\n",
       "      <td>...</td>\n",
       "      <td>...</td>\n",
       "      <td>...</td>\n",
       "      <td>...</td>\n",
       "      <td>...</td>\n",
       "      <td>...</td>\n",
       "      <td>...</td>\n",
       "      <td>...</td>\n",
       "      <td>...</td>\n",
       "      <td>...</td>\n",
       "      <td>...</td>\n",
       "      <td>...</td>\n",
       "      <td>...</td>\n",
       "    </tr>\n",
       "    <tr>\n",
       "      <th>598</th>\n",
       "      <td>1630207</td>\n",
       "      <td>580</td>\n",
       "      <td>Nate Hinton</td>\n",
       "      <td>IND</td>\n",
       "      <td>2</td>\n",
       "      <td>2</td>\n",
       "      <td>0</td>\n",
       "      <td>1</td>\n",
       "      <td>0.000</td>\n",
       "      <td>0</td>\n",
       "      <td>...</td>\n",
       "      <td>0</td>\n",
       "      <td>0</td>\n",
       "      <td>0</td>\n",
       "      <td>0</td>\n",
       "      <td>1</td>\n",
       "      <td>0</td>\n",
       "      <td>0</td>\n",
       "      <td>-2</td>\n",
       "      <td>0.00</td>\n",
       "      <td>0.00</td>\n",
       "    </tr>\n",
       "    <tr>\n",
       "      <th>599</th>\n",
       "      <td>1626155</td>\n",
       "      <td>580</td>\n",
       "      <td>Sam Dekker</td>\n",
       "      <td>TOR</td>\n",
       "      <td>1</td>\n",
       "      <td>1</td>\n",
       "      <td>0</td>\n",
       "      <td>0</td>\n",
       "      <td>0.000</td>\n",
       "      <td>0</td>\n",
       "      <td>...</td>\n",
       "      <td>0</td>\n",
       "      <td>0</td>\n",
       "      <td>0</td>\n",
       "      <td>0</td>\n",
       "      <td>0</td>\n",
       "      <td>0</td>\n",
       "      <td>0</td>\n",
       "      <td>0</td>\n",
       "      <td>0.00</td>\n",
       "      <td>0.00</td>\n",
       "    </tr>\n",
       "    <tr>\n",
       "      <th>600</th>\n",
       "      <td>1629309</td>\n",
       "      <td>580</td>\n",
       "      <td>Trayvon Palmer</td>\n",
       "      <td>DET</td>\n",
       "      <td>1</td>\n",
       "      <td>17</td>\n",
       "      <td>0</td>\n",
       "      <td>1</td>\n",
       "      <td>0.000</td>\n",
       "      <td>0</td>\n",
       "      <td>...</td>\n",
       "      <td>2</td>\n",
       "      <td>0</td>\n",
       "      <td>0</td>\n",
       "      <td>0</td>\n",
       "      <td>1</td>\n",
       "      <td>2</td>\n",
       "      <td>0</td>\n",
       "      <td>0</td>\n",
       "      <td>0.00</td>\n",
       "      <td>0.00</td>\n",
       "    </tr>\n",
       "    <tr>\n",
       "      <th>601</th>\n",
       "      <td>1629788</td>\n",
       "      <td>580</td>\n",
       "      <td>Tyler Hall</td>\n",
       "      <td>NYK</td>\n",
       "      <td>1</td>\n",
       "      <td>2</td>\n",
       "      <td>0</td>\n",
       "      <td>0</td>\n",
       "      <td>0.000</td>\n",
       "      <td>0</td>\n",
       "      <td>...</td>\n",
       "      <td>0</td>\n",
       "      <td>0</td>\n",
       "      <td>0</td>\n",
       "      <td>0</td>\n",
       "      <td>0</td>\n",
       "      <td>0</td>\n",
       "      <td>0</td>\n",
       "      <td>0</td>\n",
       "      <td>0.00</td>\n",
       "      <td>0.00</td>\n",
       "    </tr>\n",
       "    <tr>\n",
       "      <th>602</th>\n",
       "      <td>1629597</td>\n",
       "      <td>580</td>\n",
       "      <td>Zylan Cheatham</td>\n",
       "      <td>UTA</td>\n",
       "      <td>1</td>\n",
       "      <td>5</td>\n",
       "      <td>0</td>\n",
       "      <td>3</td>\n",
       "      <td>0.000</td>\n",
       "      <td>0</td>\n",
       "      <td>...</td>\n",
       "      <td>0</td>\n",
       "      <td>0</td>\n",
       "      <td>0</td>\n",
       "      <td>0</td>\n",
       "      <td>0</td>\n",
       "      <td>0</td>\n",
       "      <td>0</td>\n",
       "      <td>-3</td>\n",
       "      <td>0.00</td>\n",
       "      <td>0.00</td>\n",
       "    </tr>\n",
       "  </tbody>\n",
       "</table>\n",
       "<p>603 rows × 27 columns</p>\n",
       "</div>"
      ],
      "text/plain": [
       "     PLAYER_ID  RANK          PLAYER TEAM  GP   MIN  FGM   FGA  FG_PCT  FG3M  \\\n",
       "0      1629027     1      Trae Young  ATL  75  2618  701  1524   0.460   229   \n",
       "1       201942     2   DeMar DeRozan  CHI  76  2743  774  1535   0.504    50   \n",
       "2       203954     3     Joel Embiid  PHI  67  2259  652  1317   0.495    91   \n",
       "3      1628369     4    Jayson Tatum  BOS  75  2705  697  1550   0.450   224   \n",
       "4       203999     5    Nikola Jokic  DEN  74  2476  764  1311   0.583    97   \n",
       "..         ...   ...             ...  ...  ..   ...  ...   ...     ...   ...   \n",
       "598    1630207   580     Nate Hinton  IND   2     2    0     1   0.000     0   \n",
       "599    1626155   580      Sam Dekker  TOR   1     1    0     0   0.000     0   \n",
       "600    1629309   580  Trayvon Palmer  DET   1    17    0     1   0.000     0   \n",
       "601    1629788   580      Tyler Hall  NYK   1     2    0     0   0.000     0   \n",
       "602    1629597   580  Zylan Cheatham  UTA   1     5    0     3   0.000     0   \n",
       "\n",
       "     ...   REB  AST  STL  BLK  TOV   PF   PTS   EFF  AST_TOV  STL_TOV  \n",
       "0    ...   279  726   72    7  298  124  2127  2037     2.44     0.24  \n",
       "1    ...   392  374   68   24  181  178  2118  1961     2.07     0.38  \n",
       "2    ...   776  280   75   98  209  177  2038  2248     1.34     0.36  \n",
       "3    ...   600  331   74   49  212  172  2015  1935     1.56     0.35  \n",
       "4    ...  1019  584  109   63  281  191  2004  2862     2.08     0.39  \n",
       "..   ...   ...  ...  ...  ...  ...  ...   ...   ...      ...      ...  \n",
       "598  ...     0    0    0    0    1    0     0    -2     0.00     0.00  \n",
       "599  ...     0    0    0    0    0    0     0     0     0.00     0.00  \n",
       "600  ...     2    0    0    0    1    2     0     0     0.00     0.00  \n",
       "601  ...     0    0    0    0    0    0     0     0     0.00     0.00  \n",
       "602  ...     0    0    0    0    0    0     0    -3     0.00     0.00  \n",
       "\n",
       "[603 rows x 27 columns]"
      ]
     },
     "execution_count": 20,
     "metadata": {},
     "output_type": "execute_result"
    }
   ],
   "source": [
    "league_leaders_df"
   ]
  },
  {
   "cell_type": "markdown",
   "id": "1c7b6fe6",
   "metadata": {},
   "source": [
    "Trae attempted 1524 shots over the course of 75 games which equals 20.32 attempts per game\n"
   ]
  },
  {
   "cell_type": "code",
   "execution_count": 46,
   "id": "fbed8411",
   "metadata": {},
   "outputs": [],
   "source": [
    "most_points = league_leaders_df[\"PTS\"].max()"
   ]
  },
  {
   "cell_type": "code",
   "execution_count": 47,
   "id": "a24b3c3b",
   "metadata": {},
   "outputs": [],
   "source": [
    "most_field_goals = league_leaders_df[\"FGA\"].max()"
   ]
  },
  {
   "cell_type": "code",
   "execution_count": 48,
   "id": "42bef8af",
   "metadata": {},
   "outputs": [
    {
     "data": {
      "text/plain": [
       "2127"
      ]
     },
     "execution_count": 48,
     "metadata": {},
     "output_type": "execute_result"
    }
   ],
   "source": [
    "most_points"
   ]
  },
  {
   "cell_type": "code",
   "execution_count": 49,
   "id": "ab106c5e",
   "metadata": {},
   "outputs": [
    {
     "data": {
      "text/plain": [
       "1550"
      ]
     },
     "execution_count": 49,
     "metadata": {},
     "output_type": "execute_result"
    }
   ],
   "source": [
    "most_field_goals"
   ]
  },
  {
   "cell_type": "code",
   "execution_count": null,
   "id": "868e0874",
   "metadata": {},
   "outputs": [],
   "source": []
  },
  {
   "cell_type": "markdown",
   "id": "be35a284",
   "metadata": {},
   "source": [
    "For our linear regression model we want to test the relationship between between two variables, one being our independent variable and the other being our dependent variable. our independent is shot attempts and our dependent is the points per game averge\n",
    "\n",
    "In order to proceed with our modeling we have to reshape the array into a 2d one for input "
   ]
  },
  {
   "cell_type": "code",
   "execution_count": 24,
   "id": "c6d0122e",
   "metadata": {},
   "outputs": [],
   "source": [
    "x = np.array(x).reshape(-1,1) \n",
    "y = np.array(y).reshape(-1,1)"
   ]
  },
  {
   "cell_type": "markdown",
   "id": "77c8cbf0",
   "metadata": {},
   "source": [
    "Now we can start to fit our model with our data. Luckily this is fairly simplistic since python has amazing libraries to do all of this stuff for us. "
   ]
  },
  {
   "cell_type": "code",
   "execution_count": 94,
   "id": "07968c7f",
   "metadata": {},
   "outputs": [],
   "source": [
    "def linear_regression_model_plot(a,b,x_axis,y_axis):\n",
    "    #here's how we create our empty model \n",
    "    model = linear_model.LinearRegression()\n",
    "    #we fit it with our variables \n",
    "    model.fit(a,b)\n",
    "    #the relationship will be measured with a line of fit or R^2 so let's get that \n",
    "    r2 = round(model.score(a,b), 2)  \n",
    "    predicted_y = model.predict(a)             # Get our predicted y values for x\n",
    "    # Scatterplot:  Specfiy size(s) and transparency(alpha) of dots\n",
    "    plt.scatter(a, b, s=15, alpha=.5) \n",
    "    # line: Add line for regression line w/ predicted values\n",
    "    plt.plot(a, predicted_y, color = 'black') \n",
    "    # Give it a title\n",
    "    plt.title(f\"NBA Relationship Between {x_axis} and {y_axis}\")\n",
    "    # Label x-axis\n",
    "    plt.xlabel(x_axis)\n",
    "    # Label y-axis\n",
    "    plt.ylabel(y_axis)  \n",
    "    # 10, 25 are the coordinates for our text. Adjust accordingly\n",
    "    plt.text(10,25, f'R2={r2}') \n",
    "    #obviously trae young is a beast offensively so he's an outlier. we can actually annotate him\n",
    "    plt.annotate(df.PLAYER[0],                       # This the name of the top scoring player. Refer to the .head() from earlier\n",
    "             (a[0], b[0]),                       # This is the point we want to annotate.  \n",
    "             (a[0]-7,b[0]-2),                    # These are coords for the text\n",
    "             arrowprops=dict(arrowstyle='-'))    # Here we use a flat line for the arrow '-'\n",
    "\n"
   ]
  },
  {
   "cell_type": "markdown",
   "id": "b6b08a9d",
   "metadata": {},
   "source": [
    "We have our Model. Now we need to visualize it in a way that is understandable and we can do that with matplotlib  "
   ]
  },
  {
   "cell_type": "code",
   "execution_count": 99,
   "id": "22a66eec",
   "metadata": {},
   "outputs": [
    {
     "data": {
      "image/png": "[encoded data removed]",
      "text/plain": [
       "<Figure size 432x288 with 1 Axes>"
      ]
     },
     "metadata": {
      "needs_background": "light"
     },
     "output_type": "display_data"
    }
   ],
   "source": [
    " linear_regression_model_plot(x,y,\"FGA\",\"PPG\")\n",
    "\n",
    "\n",
    "\n",
    "\n",
    "\n"
   ]
  },
  {
   "cell_type": "markdown",
   "id": "35e22068",
   "metadata": {},
   "source": [
    "lets create the same model but with 3 point attempts instead of field goal attempts "
   ]
  },
  {
   "cell_type": "code",
   "execution_count": 100,
   "id": "56e1932c",
   "metadata": {},
   "outputs": [
    {
     "data": {
      "text/plain": [
       "Index(['PLAYER_ID', 'RANK', 'PLAYER', 'TEAM', 'GP', 'MIN', 'FGM', 'FGA',\n",
       "       'FG_PCT', 'FG3M', 'FG3A', 'FG3_PCT', 'FTM', 'FTA', 'FT_PCT', 'OREB',\n",
       "       'DREB', 'REB', 'AST', 'STL', 'BLK', 'TOV', 'PF', 'PTS', 'EFF',\n",
       "       'AST_TOV', 'STL_TOV'],\n",
       "      dtype='object')"
      ]
     },
     "execution_count": 100,
     "metadata": {},
     "output_type": "execute_result"
    }
   ],
   "source": [
    "league_leaders_df.columns"
   ]
  },
  {
   "cell_type": "code",
   "execution_count": 101,
   "id": "daf45ae8",
   "metadata": {},
   "outputs": [],
   "source": [
    "c = league_leaders_df.FG3A/league_leaders_df.GP, \n",
    "d= league_leaders_df.PTS/league_leaders_df.GP "
   ]
  },
  {
   "cell_type": "code",
   "execution_count": 102,
   "id": "3fc381d3",
   "metadata": {},
   "outputs": [],
   "source": [
    "c = np.array(c).reshape(-1,1) \n",
    "d = np.array(d).reshape(-1,1)"
   ]
  },
  {
   "cell_type": "code",
   "execution_count": null,
   "id": "f58d38d0",
   "metadata": {},
   "outputs": [],
   "source": []
  },
  {
   "cell_type": "code",
   "execution_count": null,
   "id": "5fdb3898",
   "metadata": {},
   "outputs": [],
   "source": []
  },
  {
   "cell_type": "code",
   "execution_count": 103,
   "id": "fbbec3bc",
   "metadata": {},
   "outputs": [
    {
     "data": {
      "image/png": "[encoded data removed]",
      "text/plain": [
       "<Figure size 432x288 with 1 Axes>"
      ]
     },
     "metadata": {
      "needs_background": "light"
     },
     "output_type": "display_data"
    }
   ],
   "source": [
    "linear_regression_model_plot(c,d,\"3 point attempts\", \"PPG\")"
   ]
  },
  {
   "cell_type": "markdown",
   "id": "1a72f508",
   "metadata": {},
   "source": [
    "Here R2 is .54 so there is a positive correlation between 3 point attempts and PPG but it doens't fit the data as well as our previous model "
   ]
  },
  {
   "cell_type": "markdown",
   "id": "0bdd3d86",
   "metadata": {},
   "source": [
    "Ok let's do one more model with assist !"
   ]
  },
  {
   "cell_type": "code",
   "execution_count": 104,
   "id": "a07b4fea",
   "metadata": {},
   "outputs": [
    {
     "data": {
      "text/plain": [
       "Index(['PLAYER_ID', 'RANK', 'PLAYER', 'TEAM', 'GP', 'MIN', 'FGM', 'FGA',\n",
       "       'FG_PCT', 'FG3M', 'FG3A', 'FG3_PCT', 'FTM', 'FTA', 'FT_PCT', 'OREB',\n",
       "       'DREB', 'REB', 'AST', 'STL', 'BLK', 'TOV', 'PF', 'PTS', 'EFF',\n",
       "       'AST_TOV', 'STL_TOV'],\n",
       "      dtype='object')"
      ]
     },
     "execution_count": 104,
     "metadata": {},
     "output_type": "execute_result"
    }
   ],
   "source": [
    "league_leaders_df.columns"
   ]
  },
  {
   "cell_type": "code",
   "execution_count": 109,
   "id": "2e19ce5d",
   "metadata": {},
   "outputs": [],
   "source": [
    "f = league_leaders_df.AST/league_leaders_df.GP, \n",
    "g= league_leaders_df.PTS/league_leaders_df.GP "
   ]
  },
  {
   "cell_type": "code",
   "execution_count": 110,
   "id": "26cb19bd",
   "metadata": {},
   "outputs": [],
   "source": [
    "f = np.array(f).reshape(-1,1) \n",
    "g = np.array(g).reshape(-1,1)"
   ]
  },
  {
   "cell_type": "code",
   "execution_count": 111,
   "id": "92709c0d",
   "metadata": {},
   "outputs": [
    {
     "data": {
      "image/png": "[encoded data removed]",
      "text/plain": [
       "<Figure size 432x288 with 1 Axes>"
      ]
     },
     "metadata": {
      "needs_background": "light"
     },
     "output_type": "display_data"
    }
   ],
   "source": [
    "linear_regression_model_plot(f,g,\"Assist per game\", \"PPG\")"
   ]
  },
  {
   "cell_type": "markdown",
   "id": "cfa82a34",
   "metadata": {},
   "source": [
    "So shockingly enough if you're more likely to score more if you pass rather than shoot a 3??\n",
    "Well this model may have be inaccurate for the best scores in todays game are the best facilitators"
   ]
  },
  {
   "cell_type": "code",
   "execution_count": null,
   "id": "1fc44ce4",
   "metadata": {},
   "outputs": [],
   "source": []
  }
 ],
 "metadata": {
  "kernelspec": {
   "display_name": "Python 3 (ipykernel)",
   "language": "python",
   "name": "python3"
  },
  "language_info": {
   "codemirror_mode": {
    "name": "ipython",
    "version": 3
   },
   "file_extension": ".py",
   "mimetype": "text/x-python",
   "name": "python",
   "nbconvert_exporter": "python",
   "pygments_lexer": "ipython3",
   "version": "3.10.0"
  }
 },
 "nbformat": 4,
 "nbformat_minor": 5
}
